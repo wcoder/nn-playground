{
 "metadata": {
  "language_info": {
   "codemirror_mode": {
    "name": "ipython",
    "version": 3
   },
   "file_extension": ".py",
   "mimetype": "text/x-python",
   "name": "python",
   "nbconvert_exporter": "python",
   "pygments_lexer": "ipython3",
   "version": "3.8.3-final"
  },
  "orig_nbformat": 2,
  "kernelspec": {
   "name": "python_defaultSpec_1595582359688",
   "display_name": "Python 3.8.3 64-bit ('3.8.3': pyenv)"
  }
 },
 "nbformat": 4,
 "nbformat_minor": 2,
 "cells": [
  {
   "cell_type": "code",
   "execution_count": 1,
   "metadata": {},
   "outputs": [],
   "source": [
    "import numpy as np\n",
    "import sys"
   ]
  },
  {
   "cell_type": "code",
   "execution_count": 3,
   "metadata": {},
   "outputs": [],
   "source": [
    "class PartyNN(object):\n",
    "\n",
    "    def __init__(self, learning_rate=0.1):\n",
    "        self.weights_0_1 = np.random.normal(0.0, 2 ** -0.5, (2, 3))\n",
    "        self.weights_1_2 = np.random.normal(0.0, 1, (1, 2))\n",
    "        self.sigmoid_mapper = np.vectorize(self.sigmoid)\n",
    "        self.learning_rate = np.array([learning_rate])\n",
    "\n",
    "    def sigmoid(self, x):\n",
    "        return 1 / (1 + np.exp(-x))\n",
    "\n",
    "    def predict(self, inputs): # len=3\n",
    "        inputs_1 = np.dot(self.weights_0_1, inputs)\n",
    "        outputs_1 = self.sigmoid_mapper(inputs_1)\n",
    "\n",
    "        inputs_2 = np.dot(self.weights_1_2, outputs_1)\n",
    "        outputs_2 = self.sigmoid_mapper(inputs_2)\n",
    "        return outputs_2\n",
    "\n",
    "    def train(self, inputs, expected_predict):\n",
    "        inputs_1 = np.dot(self.weights_0_1, inputs)\n",
    "        outputs_1 = self.sigmoid_mapper(inputs_1)\n",
    "\n",
    "        inputs_2 = np.dot(self.weights_1_2, outputs_1)\n",
    "        outputs_2 = self.sigmoid_mapper(inputs_2)\n",
    "        actual_predict = outputs_2[0]\n",
    "\n",
    "        error_layer_2 = np.array([actual_predict - expected_predict])\n",
    "        gradient_layer_2 = actual_predict * (1 - actual_predict)\n",
    "        weights_delta_layer_2 = error_layer_2 * gradient_layer_2\n",
    "        self.weights_1_2 -= (np.dot(weights_delta_layer_2, outputs_1.reshape(1, len(outputs_1)))) * self.learning_rate\n",
    "\n",
    "        error_layer_1 = weights_delta_layer_2 * self.weights_1_2\n",
    "        gradient_layer_1 = outputs_1 * (1 - outputs_1)\n",
    "        weights_delta_layer_1 = error_layer_1 * gradient_layer_1\n",
    "        self.weights_0_1 -= np.dot(inputs.reshape(len(inputs), 1), weights_delta_layer_1).T * self.learning_rate"
   ]
  },
  {
   "cell_type": "code",
   "execution_count": 4,
   "metadata": {},
   "outputs": [],
   "source": [
    "def mean_squared_error(y, Y):\n",
    "    return np.mean((y - Y) ** 2)"
   ]
  },
  {
   "cell_type": "code",
   "execution_count": 5,
   "metadata": {},
   "outputs": [],
   "source": [
    "train = [\n",
    "    ([0, 0, 0], 0),\n",
    "    ([0, 0, 1], 1),\n",
    "    ([0, 1, 0], 0),\n",
    "    ([0, 1, 1], 0),\n",
    "    ([1, 0, 0], 1),\n",
    "    ([1, 0, 1], 1),\n",
    "    ([1, 1, 0], 0),\n",
    "    ([1, 1, 1], 1),\n",
    "]"
   ]
  },
  {
   "cell_type": "code",
   "execution_count": 9,
   "metadata": {
    "tags": []
   },
   "outputs": [
    {
     "output_type": "stream",
     "name": "stdout",
     "text": "Progress: 99.9, Training loss: 0.004"
    }
   ],
   "source": [
    "# to GPU, Parallel\n",
    "\n",
    "epochs = 5000\n",
    "learning_rate = 0.05\n",
    "\n",
    "network = PartyNN(learning_rate=learning_rate)\n",
    "\n",
    "for e in range(epochs):\n",
    "    inputs_ = []\n",
    "    correct_predictions = []\n",
    "    for input_stat, correct_predict in train:\n",
    "        network.train(np.array(input_stat), correct_predict)\n",
    "        inputs_.append(np.array(input_stat))\n",
    "        correct_predictions.append(np.array(correct_predict))\n",
    "    \n",
    "    train_loss = mean_squared_error(network.predict(np.array(inputs_).T), np.array(correct_predictions))\n",
    "    sys.stdout.write(\"\\rProgress: {}, Training loss: {}\".format(str(100 * e / float(epochs))[:4], str(train_loss)[:5]))"
   ]
  },
  {
   "cell_type": "code",
   "execution_count": 16,
   "metadata": {
    "tags": []
   },
   "outputs": [
    {
     "output_type": "stream",
     "name": "stdout",
     "text": "For input: [0, 0, 0] the prediction is: [0.12968761]:[False], expected: False\nFor input: [0, 0, 1] the prediction is: [0.94530342]:[ True], expected: True\nFor input: [0, 1, 0] the prediction is: [0.00098543]:[False], expected: False\nFor input: [0, 1, 1] the prediction is: [0.04263897]:[False], expected: False\nFor input: [1, 0, 0] the prediction is: [0.9450802]:[ True], expected: True\nFor input: [1, 0, 1] the prediction is: [0.97274353]:[ True], expected: True\nFor input: [1, 1, 0] the prediction is: [0.04262131]:[False], expected: False\nFor input: [1, 1, 1] the prediction is: [0.92116731]:[ True], expected: True\n"
    }
   ],
   "source": [
    "for input_stat, correct_predict in train:\n",
    "    predict = network.predict(np.array(input_stat))\n",
    "    print(\"For input: {} the prediction is: {}:{}, expected: {}\".format(\n",
    "        str(input_stat),\n",
    "        str(predict),\n",
    "        str(predict > .5),\n",
    "        str(correct_predict == 1)))"
   ]
  },
  {
   "cell_type": "code",
   "execution_count": 17,
   "metadata": {},
   "outputs": [
    {
     "output_type": "execute_result",
     "data": {
      "text/plain": "array([[ 2.34259801, -2.74154888,  2.41982307],\n       [-2.68183845,  3.14624019, -2.64335414]])"
     },
     "metadata": {},
     "execution_count": 17
    }
   ],
   "source": [
    "network.weights_0_1"
   ]
  },
  {
   "cell_type": "code",
   "execution_count": 18,
   "metadata": {},
   "outputs": [
    {
     "output_type": "execute_result",
     "data": {
      "text/plain": "array([[ 3.64176713, -7.44921448]])"
     },
     "metadata": {},
     "execution_count": 18
    }
   ],
   "source": [
    "network.weights_1_2"
   ]
  },
  {
   "cell_type": "markdown",
   "metadata": {},
   "source": [
    "[Resource](https://www.youtube.com/watch?v=HA-F6cZPvrg)"
   ]
  }
 ]
}