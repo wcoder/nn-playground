{
 "metadata": {
  "language_info": {
   "codemirror_mode": {
    "name": "ipython",
    "version": 3
   },
   "file_extension": ".py",
   "mimetype": "text/x-python",
   "name": "python",
   "nbconvert_exporter": "python",
   "pygments_lexer": "ipython3",
   "version": "3.8.3-final"
  },
  "orig_nbformat": 2,
  "kernelspec": {
   "name": "python_defaultSpec_1595232555257",
   "display_name": "Python 3.8.3 64-bit ('3.8.3': pyenv)"
  }
 },
 "nbformat": 4,
 "nbformat_minor": 2,
 "cells": [
  {
   "cell_type": "code",
   "execution_count": 10,
   "metadata": {},
   "outputs": [],
   "source": [
    "import numpy as np"
   ]
  },
  {
   "cell_type": "code",
   "execution_count": 11,
   "metadata": {},
   "outputs": [],
   "source": [
    "fan = 0.0\n",
    "rain = 1.0\n",
    "people = 0.0"
   ]
  },
  {
   "cell_type": "code",
   "execution_count": 12,
   "metadata": {},
   "outputs": [],
   "source": [
    "def activation_function(x):\n",
    "    if x >= 0.5:\n",
    "        return 1\n",
    "    else:\n",
    "        return 0"
   ]
  },
  {
   "cell_type": "code",
   "execution_count": 13,
   "metadata": {},
   "outputs": [],
   "source": [
    "def predict(fan, rain, people):\n",
    "    inputs = np.array([fan, rain, people])\n",
    "    weights_input_to_hidden_1 = [0.25, 0.25, 0]\n",
    "    weights_input_to_hidden_2 = [0.5, -0.4, 0.9]\n",
    "    weights_input_to_hidden = np.array([weights_input_to_hidden_1, weights_input_to_hidden_2])\n",
    "\n",
    "    weights_input_to_output = np.array([-1, 1])\n",
    "\n",
    "    hidden_input = np.dot(weights_input_to_hidden, inputs)\n",
    "    print(\"Hidden input: \" + str(hidden_input))\n",
    "\n",
    "    hidden_output = np.array([activation_function(x) for x in hidden_input])\n",
    "    print(\"Hidden output: \" + str(hidden_output))\n",
    "\n",
    "    output = np.dot(weights_input_to_output, hidden_output)\n",
    "    print(\"Output: \" + str(output))\n",
    "\n",
    "    return activation_function(output) == 1\n",
    "    "
   ]
  },
  {
   "cell_type": "code",
   "execution_count": 14,
   "metadata": {
    "tags": []
   },
   "outputs": [
    {
     "output_type": "stream",
     "name": "stdout",
     "text": "Hidden input: [ 0.25 -0.4 ]\nHidden output: [0 0]\nOutput: 0\nResult: False\n"
    }
   ],
   "source": [
    "print(\"Result: \" + str(predict(fan, rain, people)))"
   ]
  },
  {
   "cell_type": "code",
   "execution_count": null,
   "metadata": {},
   "outputs": [],
   "source": []
  },
  {
   "cell_type": "markdown",
   "metadata": {},
   "source": [
    "Resources: https://www.youtube.com/watch?v=AZG0j0pNY-4"
   ]
  }
 ]
}